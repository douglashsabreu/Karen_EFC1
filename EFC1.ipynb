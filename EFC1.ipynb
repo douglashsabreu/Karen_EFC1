{
 "cells": [
  {
   "cell_type": "code",
   "execution_count": 3,
   "metadata": {},
   "outputs": [],
   "source": [
    "import numpy as np\n",
    "import pandas as pd\n",
    "import matplotlib.pyplot as plt\n",
    "import seaborn as sns"
   ]
  },
  {
   "cell_type": "code",
   "execution_count": 4,
   "metadata": {},
   "outputs": [],
   "source": [
    "# Carrega o conjunto de dados\n",
    "file = 'monthly-sunspots.csv'\n",
    "df = pd.read_csv(file)\n",
    "all_dados = pd.to_numeric(df['Monthly Mean Total Sunspot Number']).to_numpy()\n",
    "df['Date'] = pd.to_datetime(df['Date'])\n",
    "all_meses = df['Date']\n",
    "#df"
   ]
  },
  {
   "cell_type": "code",
   "execution_count": 16,
   "metadata": {},
   "outputs": [],
   "source": [
    "#Separando os conjuntos\n",
    "\n",
    "# Conjuntos de teste 2010 à 2019 (120 meses)\n",
    "sunspots_teste = all_dados[-120:]\n",
    "anos_teste = all_meses[-120:]\n",
    "\n",
    "# Conjuntos de treino 1749 à 2010 (3132 meses)\n",
    "sunspots_treino = all_dados[:-120]\n",
    "anos_treino = all_meses[:-120]"
   ]
  },
  {
   "cell_type": "code",
   "execution_count": 20,
   "metadata": {},
   "outputs": [],
   "source": [
    "# Gerando matriz phi (Tópico 3 #5) e y\n",
    "def gera_phi(dados, K):\n",
    "    phi = []\n",
    "    for i in range(len(dados) - K):\n",
    "        # Flip para pegar os valores de sunspots mais recentes\n",
    "        phi_x = np.flip(dados[i:i + K])\n",
    "        # Adiciona phi_x na matriz phi\n",
    "        phi.append(phi_x)\n",
    "    return np.array(phi)\n",
    "\n",
    "def gera_y(dados, K):\n",
    "    y = []\n",
    "    for i in range(K, len(dados)):\n",
    "        y.append(dados[i])\n",
    "    return y"
   ]
  },
  {
   "cell_type": "code",
   "execution_count": 21,
   "metadata": {},
   "outputs": [],
   "source": [
    "# Gera a matriz Phi para treinamento com 24 atrasos mais recentes\n",
    "phi = gera_phi(sunspots_treino, 24)\n",
    "y = gera_y(sunspots_treino, 24)\n",
    "\n",
    "# Adiciona o bias à matriz Phi\n",
    "phi = np.insert(phi, 0, 1, axis=1)\n",
    "# Calcula o w através da solução (Tópico 3 #18) fechada\n",
    "w = np.dot(np.dot(np.linalg.inv(np.dot(phi.T, phi)), phi.T), y)"
   ]
  },
  {
   "cell_type": "code",
   "execution_count": 22,
   "metadata": {},
   "outputs": [
    {
     "data": {
      "text/plain": [
       "array([[  1. , 125.7, 105.5, ..., 116.7, 104.3,  96.7],\n",
       "       [  1. , 116.7, 125.7, ...,  92.8, 116.7, 104.3],\n",
       "       [  1. ,  72.5, 116.7, ..., 141.7,  92.8, 116.7],\n",
       "       ...,\n",
       "       [  1. ,   7.1,   0. , ...,  17.3,   2.8,   1.5],\n",
       "       [  1. ,   7.7,   7.1, ...,   4.1,  17.3,   2.8],\n",
       "       [  1. ,   6.9,   7.7, ...,   2.9,   4.1,  17.3]])"
      ]
     },
     "execution_count": 22,
     "metadata": {},
     "output_type": "execute_result"
    }
   ],
   "source": [
    "phi"
   ]
  },
  {
   "cell_type": "code",
   "execution_count": 24,
   "metadata": {},
   "outputs": [
    {
     "data": {
      "text/plain": [
       "25"
      ]
     },
     "execution_count": 24,
     "metadata": {},
     "output_type": "execute_result"
    }
   ],
   "source": [
    "len(phi.T)"
   ]
  },
  {
   "cell_type": "code",
   "execution_count": null,
   "metadata": {},
   "outputs": [],
   "source": []
  }
 ],
 "metadata": {
  "kernelspec": {
   "display_name": "Python 3",
   "language": "python",
   "name": "python3"
  },
  "language_info": {
   "codemirror_mode": {
    "name": "ipython",
    "version": 3
   },
   "file_extension": ".py",
   "mimetype": "text/x-python",
   "name": "python",
   "nbconvert_exporter": "python",
   "pygments_lexer": "ipython3",
   "version": "3.7.6"
  }
 },
 "nbformat": 4,
 "nbformat_minor": 4
}
